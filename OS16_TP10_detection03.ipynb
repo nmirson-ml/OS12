{
 "cells": [
  {
   "cell_type": "markdown",
   "metadata": {},
   "source": [
    "Librairies"
   ]
  },
  {
   "cell_type": "code",
   "execution_count": 8,
   "metadata": {},
   "outputs": [],
   "source": [
    "import numpy as np\n",
    "import matplotlib.pyplot as plt\n",
    "from sklearn import svm\n",
    "from sklearn.model_selection import train_test_split, GridSearchCV\n",
    "from numpy.random import seed\n",
    "from numpy.random import randn\n",
    "import pandas as pd \n",
    "from sklearn.svm import OneClassSVM\n",
    "from sklearn.model_selection import train_test_split\n",
    "from sklearn import metrics\n",
    "from sklearn.metrics import accuracy_score"
   ]
  },
  {
   "cell_type": "code",
   "execution_count": null,
   "metadata": {},
   "outputs": [],
   "source": []
  },
  {
   "cell_type": "markdown",
   "metadata": {},
   "source": [
    "Lecture d'un fichier CSV"
   ]
  },
  {
   "cell_type": "code",
   "execution_count": 62,
   "metadata": {},
   "outputs": [],
   "source": [
    "input_file = \"./data/iris.csv\"\n",
    "\n",
    "df = pd.read_csv(input_file, header = None,delimiter = \";\")\n",
    "IRIS=df.to_numpy()\n",
    "X=IRIS[:,0:3]\n",
    "Y_text=IRIS[:,4]\n",
    "is0=Y_text==Y_text[0]\n",
    "is1=Y_text==Y_text[60]\n",
    "is2=Y_text==Y_text[120]\n",
    "sx=X.shape\n",
    "y=np.zeros(sx[0])\n",
    "y[is1]=1\n",
    "y[is2]=2\n",
    "yref=y;\n",
    "yref[is0]=1\n",
    "yref[is1]=-1\n",
    "yref[is2]=-1\n",
    "adv=is1+is2\n"
   ]
  },
  {
   "cell_type": "code",
   "execution_count": 66,
   "metadata": {},
   "outputs": [
    {
     "data": {
      "image/png": "[encoded data removed]",
      "text/plain": [
       "<Figure size 576x576 with 1 Axes>"
      ]
     },
     "metadata": {
      "needs_background": "light"
     },
     "output_type": "display_data"
    }
   ],
   "source": [
    "plt.figure(figsize=(8,8))\n",
    "plt.scatter(X[is0,0],X[is0,1],color='blue',s=20)\n",
    "plt.scatter(X[is1,0],X[is1,1],color='green',s=20)\n",
    "plt.scatter(X[is2,0],X[is2,1],color='red',s=20)\n",
    "plt.xlabel('x')  \n",
    "plt.ylabel('y')  \n",
    "plt.title(\"samples\") \n",
    "plt.show()"
   ]
  },
  {
   "cell_type": "code",
   "execution_count": 60,
   "metadata": {},
   "outputs": [],
   "source": [
    "p_det=np.zeros(20)\n",
    "p_fa=np.zeros(20)\n",
    "for k in range(0,20):\n",
    "#    X_app, X_test, y_app, y_test = train_test_split(X[is0,:], y[is0], test_size=0.33, random_state=42)\n",
    "    X_app, X_test, y_app, y_test = train_test_split(X[is0,:], y[is0], test_size=0.33)\n",
    "    ocsvm = OneClassSVM(kernel='rbf', gamma=0.1,nu=0.05)\n",
    "    ocsvm.fit(X_app)\n",
    "    Y_iris_pred_test=ocsvm.predict(X_test)\n",
    "    Y_iris_pred_adv=ocsvm.predict(X[adv,:])\n",
    "    p_det[k]=accuracy_score(y_test, Y_iris_pred_test)\n",
    "    p_fa[k]=1-accuracy_score(yref[adv], Y_iris_pred_adv)"
   ]
  },
  {
   "cell_type": "code",
   "execution_count": 61,
   "metadata": {},
   "outputs": [
    {
     "name": "stdout",
     "output_type": "stream",
     "text": [
      "0.0\n",
      "0.9529411764705882\n"
     ]
    }
   ],
   "source": [
    "print(np.mean(p_fa))\n",
    "print(np.mean(p_det))"
   ]
  },
  {
   "cell_type": "code",
   "execution_count": null,
   "metadata": {},
   "outputs": [],
   "source": []
  },
  {
   "cell_type": "code",
   "execution_count": null,
   "metadata": {},
   "outputs": [],
   "source": []
  },
  {
   "cell_type": "code",
   "execution_count": null,
   "metadata": {},
   "outputs": [],
   "source": []
  },
  {
   "cell_type": "code",
   "execution_count": null,
   "metadata": {},
   "outputs": [],
   "source": []
  },
  {
   "cell_type": "code",
   "execution_count": null,
   "metadata": {},
   "outputs": [],
   "source": []
  },
  {
   "cell_type": "code",
   "execution_count": null,
   "metadata": {},
   "outputs": [],
   "source": []
  }
 ],
 "metadata": {
  "kernelspec": {
   "display_name": "Python 3",
   "language": "python",
   "name": "python3"
  },
  "language_info": {
   "codemirror_mode": {
    "name": "ipython",
    "version": 3
   },
   "file_extension": ".py",
   "mimetype": "text/x-python",
   "name": "python",
   "nbconvert_exporter": "python",
   "pygments_lexer": "ipython3",
   "version": "3.8.3"
  }
 },
 "nbformat": 4,
 "nbformat_minor": 4
}
